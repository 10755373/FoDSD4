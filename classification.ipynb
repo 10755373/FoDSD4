{
 "cells": [
  {
   "cell_type": "markdown",
   "source": [
    "<h2>Classification</h2>\r\n",
    "\r\n",
    "Authors: Casper Smit and Samantha Visbeek"
   ],
   "metadata": {}
  },
  {
   "cell_type": "code",
   "execution_count": 5,
   "source": [
    "# imports\r\n",
    "import pandas as pd\r\n",
    "import numpy as np\r\n",
    "from import_data import *\r\n",
    "from util import *\r\n"
   ],
   "outputs": [
    {
     "output_type": "stream",
     "name": "stderr",
     "text": [
      "[nltk_data] Downloading package wordnet to\n",
      "[nltk_data]     /home/caspeerrr/nltk_data...\n",
      "[nltk_data]   Package wordnet is already up-to-date!\n"
     ]
    }
   ],
   "metadata": {}
  },
  {
   "cell_type": "code",
   "execution_count": 6,
   "source": [
    "# create dataframe\r\n",
    "df = import_merge()\r\n",
    "df = clean_dataframe(df)\r\n",
    "\r\n",
    "# drop rows where hdi_score is Nan\r\n",
    "df = df[df['hdi_score'].notna()]\r\n",
    "df = df.reset_index(drop=True)\r\n",
    "df.head()"
   ],
   "outputs": [
    {
     "output_type": "display_data",
     "data": {
      "application/vnd.jupyter.widget-view+json": {
       "version_major": 2,
       "version_minor": 0,
       "model_id": "0973197640484a6aa0e0ff8c29f38b8d"
      },
      "text/plain": [
       "  0%|                                                                                             | 0/8 [00:00…"
      ]
     },
     "metadata": {}
    },
    {
     "output_type": "stream",
     "name": "stdout",
     "text": [
      "Country Cleaning Report:\n",
      "\t933 values cleaned (11.0%)\n",
      "\t37 values unable to be parsed (0.44%), set to NaN\n",
      "Result contains 8444 (99.56%) values in the correct format and 37 null values (0.44%)\n"
     ]
    },
    {
     "output_type": "execute_result",
     "data": {
      "text/html": [
       "<div>\n",
       "<style scoped>\n",
       "    .dataframe tbody tr th:only-of-type {\n",
       "        vertical-align: middle;\n",
       "    }\n",
       "\n",
       "    .dataframe tbody tr th {\n",
       "        vertical-align: top;\n",
       "    }\n",
       "\n",
       "    .dataframe thead th {\n",
       "        text-align: right;\n",
       "    }\n",
       "</style>\n",
       "<table border=\"1\" class=\"dataframe\">\n",
       "  <thead>\n",
       "    <tr style=\"text-align: right;\">\n",
       "      <th></th>\n",
       "      <th>Global Code</th>\n",
       "      <th>Global Name</th>\n",
       "      <th>Region Code</th>\n",
       "      <th>Region Name</th>\n",
       "      <th>Sub-region Code</th>\n",
       "      <th>Sub-region Name</th>\n",
       "      <th>Intermediate Region Code</th>\n",
       "      <th>Intermediate Region Name</th>\n",
       "      <th>Country or Area</th>\n",
       "      <th>M49 Code</th>\n",
       "      <th>...</th>\n",
       "      <th>Least Developed Countries (LDC)</th>\n",
       "      <th>Land Locked Developing Countries (LLDC)</th>\n",
       "      <th>Small Island Developing States (SIDS)</th>\n",
       "      <th>Developed / Developing Countries</th>\n",
       "      <th>Session</th>\n",
       "      <th>Year</th>\n",
       "      <th>Speech</th>\n",
       "      <th>hdi_score</th>\n",
       "      <th>hdi_class</th>\n",
       "      <th>country_cleaned</th>\n",
       "    </tr>\n",
       "  </thead>\n",
       "  <tbody>\n",
       "    <tr>\n",
       "      <th>0</th>\n",
       "      <td>1.0</td>\n",
       "      <td>World</td>\n",
       "      <td>19.0</td>\n",
       "      <td>Americas</td>\n",
       "      <td>419.0</td>\n",
       "      <td>Latin America and the Caribbean</td>\n",
       "      <td>5.0</td>\n",
       "      <td>South America</td>\n",
       "      <td>Guyana</td>\n",
       "      <td>328.0</td>\n",
       "      <td>...</td>\n",
       "      <td>NaN</td>\n",
       "      <td>NaN</td>\n",
       "      <td>x</td>\n",
       "      <td>Developing</td>\n",
       "      <td>45</td>\n",
       "      <td>1990</td>\n",
       "      <td>﻿There is now abroad in the world a mood of op...</td>\n",
       "      <td>0.548</td>\n",
       "      <td>low</td>\n",
       "      <td>Guyana</td>\n",
       "    </tr>\n",
       "    <tr>\n",
       "      <th>1</th>\n",
       "      <td>1.0</td>\n",
       "      <td>World</td>\n",
       "      <td>142.0</td>\n",
       "      <td>Asia</td>\n",
       "      <td>35.0</td>\n",
       "      <td>South-eastern Asia</td>\n",
       "      <td>NaN</td>\n",
       "      <td>NaN</td>\n",
       "      <td>Indonesia</td>\n",
       "      <td>360.0</td>\n",
       "      <td>...</td>\n",
       "      <td>NaN</td>\n",
       "      <td>NaN</td>\n",
       "      <td>NaN</td>\n",
       "      <td>Developing</td>\n",
       "      <td>45</td>\n",
       "      <td>1990</td>\n",
       "      <td>Mr. President, it gives me great pleasure to o...</td>\n",
       "      <td>0.523</td>\n",
       "      <td>low</td>\n",
       "      <td>Indonesia</td>\n",
       "    </tr>\n",
       "    <tr>\n",
       "      <th>2</th>\n",
       "      <td>1.0</td>\n",
       "      <td>World</td>\n",
       "      <td>2.0</td>\n",
       "      <td>Africa</td>\n",
       "      <td>202.0</td>\n",
       "      <td>Sub-Saharan Africa</td>\n",
       "      <td>14.0</td>\n",
       "      <td>Eastern Africa</td>\n",
       "      <td>Rwanda</td>\n",
       "      <td>646.0</td>\n",
       "      <td>...</td>\n",
       "      <td>x</td>\n",
       "      <td>x</td>\n",
       "      <td>NaN</td>\n",
       "      <td>Developing</td>\n",
       "      <td>45</td>\n",
       "      <td>1990</td>\n",
       "      <td>﻿It is a great honour for me and for the entir...</td>\n",
       "      <td>0.248</td>\n",
       "      <td>low</td>\n",
       "      <td>Rwanda</td>\n",
       "    </tr>\n",
       "    <tr>\n",
       "      <th>3</th>\n",
       "      <td>1.0</td>\n",
       "      <td>World</td>\n",
       "      <td>150.0</td>\n",
       "      <td>Europe</td>\n",
       "      <td>151.0</td>\n",
       "      <td>Eastern Europe</td>\n",
       "      <td>NaN</td>\n",
       "      <td>NaN</td>\n",
       "      <td>Hungary</td>\n",
       "      <td>348.0</td>\n",
       "      <td>...</td>\n",
       "      <td>NaN</td>\n",
       "      <td>NaN</td>\n",
       "      <td>NaN</td>\n",
       "      <td>Developed</td>\n",
       "      <td>45</td>\n",
       "      <td>1990</td>\n",
       "      <td>﻿May I first of all extend to Mr. Guido de Mar...</td>\n",
       "      <td>0.708</td>\n",
       "      <td>high</td>\n",
       "      <td>Hungary</td>\n",
       "    </tr>\n",
       "    <tr>\n",
       "      <th>4</th>\n",
       "      <td>1.0</td>\n",
       "      <td>World</td>\n",
       "      <td>2.0</td>\n",
       "      <td>Africa</td>\n",
       "      <td>202.0</td>\n",
       "      <td>Sub-Saharan Africa</td>\n",
       "      <td>11.0</td>\n",
       "      <td>Western Africa</td>\n",
       "      <td>Senegal</td>\n",
       "      <td>686.0</td>\n",
       "      <td>...</td>\n",
       "      <td>x</td>\n",
       "      <td>NaN</td>\n",
       "      <td>NaN</td>\n",
       "      <td>Developing</td>\n",
       "      <td>45</td>\n",
       "      <td>1990</td>\n",
       "      <td>﻿The delegation of Senegal warmly congratulate...</td>\n",
       "      <td>0.376</td>\n",
       "      <td>low</td>\n",
       "      <td>Senegal</td>\n",
       "    </tr>\n",
       "  </tbody>\n",
       "</table>\n",
       "<p>5 rows × 22 columns</p>\n",
       "</div>"
      ],
      "text/plain": [
       "   Global Code Global Name  Region Code Region Name  Sub-region Code  \\\n",
       "0          1.0       World         19.0    Americas            419.0   \n",
       "1          1.0       World        142.0        Asia             35.0   \n",
       "2          1.0       World          2.0      Africa            202.0   \n",
       "3          1.0       World        150.0      Europe            151.0   \n",
       "4          1.0       World          2.0      Africa            202.0   \n",
       "\n",
       "                   Sub-region Name  Intermediate Region Code  \\\n",
       "0  Latin America and the Caribbean                       5.0   \n",
       "1               South-eastern Asia                       NaN   \n",
       "2               Sub-Saharan Africa                      14.0   \n",
       "3                   Eastern Europe                       NaN   \n",
       "4               Sub-Saharan Africa                      11.0   \n",
       "\n",
       "  Intermediate Region Name Country or Area  M49 Code  ...  \\\n",
       "0            South America          Guyana     328.0  ...   \n",
       "1                      NaN       Indonesia     360.0  ...   \n",
       "2           Eastern Africa          Rwanda     646.0  ...   \n",
       "3                      NaN         Hungary     348.0  ...   \n",
       "4           Western Africa         Senegal     686.0  ...   \n",
       "\n",
       "  Least Developed Countries (LDC) Land Locked Developing Countries (LLDC)  \\\n",
       "0                             NaN                                     NaN   \n",
       "1                             NaN                                     NaN   \n",
       "2                               x                                       x   \n",
       "3                             NaN                                     NaN   \n",
       "4                               x                                     NaN   \n",
       "\n",
       "  Small Island Developing States (SIDS) Developed / Developing Countries  \\\n",
       "0                                     x                       Developing   \n",
       "1                                   NaN                       Developing   \n",
       "2                                   NaN                       Developing   \n",
       "3                                   NaN                        Developed   \n",
       "4                                   NaN                       Developing   \n",
       "\n",
       "  Session  Year                                             Speech  hdi_score  \\\n",
       "0      45  1990  ﻿There is now abroad in the world a mood of op...      0.548   \n",
       "1      45  1990  Mr. President, it gives me great pleasure to o...      0.523   \n",
       "2      45  1990  ﻿It is a great honour for me and for the entir...      0.248   \n",
       "3      45  1990  ﻿May I first of all extend to Mr. Guido de Mar...      0.708   \n",
       "4      45  1990  ﻿The delegation of Senegal warmly congratulate...      0.376   \n",
       "\n",
       "  hdi_class  country_cleaned  \n",
       "0       low           Guyana  \n",
       "1       low        Indonesia  \n",
       "2       low           Rwanda  \n",
       "3      high          Hungary  \n",
       "4       low          Senegal  \n",
       "\n",
       "[5 rows x 22 columns]"
      ]
     },
     "metadata": {},
     "execution_count": 6
    }
   ],
   "metadata": {}
  },
  {
   "cell_type": "markdown",
   "source": [
    "<h3>Text Processing</h3>\r\n"
   ],
   "metadata": {}
  },
  {
   "cell_type": "code",
   "execution_count": 7,
   "source": [
    "# remove all names from the speeches\r\n",
    "df['SpeechNoNames'] = df['Speech'].apply(remove_names)\r\n",
    "\r\n",
    "# text processing\r\n",
    "df['Speech'] = df['Speech'].apply(clean_string).apply(remove_stopw)\r\n",
    "df['SpeechNoNames'] = df['SpeechNoNames'].apply(clean_string).apply(remove_stopw)"
   ],
   "outputs": [],
   "metadata": {}
  },
  {
   "cell_type": "code",
   "execution_count": 8,
   "source": [
    "# remove all words that only occur once in the whole dataframe\r\n",
    "df['Speech'] = remove_single_occurence(df['Speech'])\r\n",
    "df['SpeechNoNames'] = remove_single_occurence(df['SpeechNoNames'])"
   ],
   "outputs": [],
   "metadata": {}
  },
  {
   "cell_type": "code",
   "execution_count": 9,
   "source": [
    "# transform speeches list to string\r\n",
    "df['Speech'] = df['Speech'].apply(lambda x: ' '.join(x))\r\n",
    "df['SpeechNoNames'] = df['SpeechNoNames'].apply(lambda x: ' '.join(x))"
   ],
   "outputs": [],
   "metadata": {}
  },
  {
   "cell_type": "code",
   "execution_count": 10,
   "source": [
    "# make dataframes of the tf-idf of the words in each speech\r\n",
    "df_tfidf = tf_idf(df['Speech'])\r\n",
    "df_tfidfNoNames = tf_idf(df['SpeechNoNames'])"
   ],
   "outputs": [
    {
     "output_type": "stream",
     "name": "stderr",
     "text": [
      "/home/caspeerrr/.local/lib/python3.8/site-packages/sklearn/utils/deprecation.py:87: FutureWarning: Function get_feature_names is deprecated; get_feature_names is deprecated in 1.0 and will be removed in 1.2. Please use get_feature_names_out instead.\n",
      "  warnings.warn(msg, category=FutureWarning)\n"
     ]
    }
   ],
   "metadata": {}
  },
  {
   "cell_type": "code",
   "execution_count": 11,
   "source": [
    "# get the features and the target for the classification\r\n",
    "features = df_tfidf\r\n",
    "featuresNoNames = df_tfidfNoNames\r\n",
    "\r\n",
    "target = df['hdi_class']"
   ],
   "outputs": [],
   "metadata": {}
  },
  {
   "cell_type": "code",
   "execution_count": 12,
   "source": [
    "# create the logistic regression model and predict\r\n",
    "pred, classes, weights, accuracy, precision, recall = logreg(features, target)\r\n",
    "predNN, classesNN, weightsNN, accuracyNN, precisionNN, recallNN = logreg(featuresNoNames, target)"
   ],
   "outputs": [],
   "metadata": {}
  },
  {
   "cell_type": "code",
   "execution_count": 13,
   "source": [
    "print('Accuracy logistic regression model: ', accuracy)\r\n",
    "print('Accuracy logistic regression model without names: ', accuracyNN)\r\n",
    "print('\\n')\r\n",
    "\r\n",
    "print('Precision logistic regression model: ', precision)\r\n",
    "print('Precision logistic regression model without names: ', precisionNN)\r\n",
    "print('\\n')\r\n",
    "\r\n",
    "print('Recall logistic regression model: ', recall)\r\n",
    "print('Recall logistic regression model without names: ', recallNN)"
   ],
   "outputs": [
    {
     "output_type": "stream",
     "name": "stdout",
     "text": [
      "Accuracy logistic regression model:  0.7969849246231155\n",
      "Accuracy logistic regression model without names:  0.7065326633165829\n",
      "\n",
      "\n",
      "Precision logistic regression model:  [0.67755102 0.88086643 0.72427984 0.9       ]\n",
      "Precision logistic regression model without names:  [0.59174312 0.76369863 0.62151394 0.83333333]\n",
      "\n",
      "\n",
      "Recall logistic regression model:  [0.73451327 0.91729323 0.69565217 0.828     ]\n",
      "Recall logistic regression model without names:  [0.57079646 0.83834586 0.61660079 0.78      ]\n"
     ]
    }
   ],
   "metadata": {}
  },
  {
   "cell_type": "code",
   "execution_count": 14,
   "source": [
    "n = 10\r\n",
    "\r\n",
    "# calcualte the top n most distincive words for each class\r\n",
    "class_words_dict = top_n_distinctive_words(n, df_tfidf, classes, weights)\r\n",
    "class_words_dictNN = top_n_distinctive_words(n, df_tfidfNoNames, classesNN, weightsNN)"
   ],
   "outputs": [],
   "metadata": {}
  },
  {
   "cell_type": "code",
   "execution_count": 15,
   "source": [
    "# print the top n most distinctive words for classification\r\n",
    "print('With names:')\r\n",
    "display_words(class_words_dict)\r\n",
    "print('Without names:')\r\n",
    "display_words(class_words_dictNN)"
   ],
   "outputs": [
    {
     "output_type": "stream",
     "name": "stdout",
     "text": [
      "With names:\n",
      "high\n",
      "serb, sails, bulbs, domingo, mexicans, algebra, lebanese, sexually, kutesas, carib\n",
      "\n",
      "\n",
      "low\n",
      "mad, sucre, delegating, pakhtunkhwa, paperwork, guilty, yeltsins, africa, afresh, malaria\n",
      "\n",
      "\n",
      "medium\n",
      "philippine, bothers, micronationalism, dominica, guy, egregious, namgyel, equatoria, kyrgyz, fw\n",
      "\n",
      "\n",
      "very high\n",
      "iceberg, rightness, spade, qarase, zeal, kordofan, humanistic, janus, bahama, europe\n",
      "\n",
      "\n",
      "Without names:\n",
      "high\n",
      "stature, regimes, revolts, ethics, occupations, moderating, aggressed, slurs, region, islamic\n",
      "\n",
      "\n",
      "low\n",
      "divisiveness, tributary, situated, subprime, partnering, election, nation, pays, delegating, contiguous\n",
      "\n",
      "\n",
      "medium\n",
      "climactic, democracies, islamic, millennial, soccer, developing, penury, democrat, graduating, drudgery\n",
      "\n",
      "\n",
      "very high\n",
      "strongholds, yearns, ahistorical, acting, necks, rightness, responsibilities, humanistic, valued, migrating\n",
      "\n",
      "\n"
     ]
    }
   ],
   "metadata": {}
  },
  {
   "cell_type": "code",
   "execution_count": 16,
   "source": [
    "from sklearn.linear_model import LinearRegression\r\n",
    "from sklearn.metrics import mean_absolute_error\r\n",
    "\r\n",
    "# get the features and the target for the classification\r\n",
    "features = df_tfidf\r\n",
    "featuresNoNames = df_tfidfNoNames\r\n",
    "\r\n",
    "target = df['Year']\r\n",
    "\r\n",
    "X_train, X_test, y_train, y_test = train_test_split(features, target, test_size=0.2, random_state=42)\r\n",
    "model = LinearRegression().fit(X_train, y_train)\r\n",
    "pred = model.predict(X_test)\r\n",
    "print(mean_absolute_error(pred, X_test))\r\n"
   ],
   "outputs": [],
   "metadata": {}
  },
  {
   "cell_type": "code",
   "execution_count": 1,
   "source": [
    "df"
   ],
   "outputs": [
    {
     "output_type": "error",
     "ename": "NameError",
     "evalue": "name 'df' is not defined",
     "traceback": [
      "\u001b[0;31m---------------------------------------------------------------------------\u001b[0m",
      "\u001b[0;31mNameError\u001b[0m                                 Traceback (most recent call last)",
      "\u001b[0;32m/tmp/ipykernel_25843/1396537375.py\u001b[0m in \u001b[0;36m<module>\u001b[0;34m\u001b[0m\n\u001b[0;32m----> 1\u001b[0;31m \u001b[0mdf\u001b[0m\u001b[0;34m\u001b[0m\u001b[0;34m\u001b[0m\u001b[0m\n\u001b[0m",
      "\u001b[0;31mNameError\u001b[0m: name 'df' is not defined"
     ]
    }
   ],
   "metadata": {}
  },
  {
   "cell_type": "code",
   "execution_count": null,
   "source": [],
   "outputs": [],
   "metadata": {}
  }
 ],
 "metadata": {
  "orig_nbformat": 4,
  "kernelspec": {
   "name": "python3",
   "display_name": "Python 3 (ipykernel)",
   "language": "python"
  },
  "language_info": {
   "name": "python",
   "version": "3.8.5",
   "mimetype": "text/x-python",
   "codemirror_mode": {
    "name": "ipython",
    "version": 3
   },
   "pygments_lexer": "ipython3",
   "nbconvert_exporter": "python",
   "file_extension": ".py"
  }
 },
 "nbformat": 4,
 "nbformat_minor": 2
}